{
 "cells": [
  {
   "cell_type": "code",
   "execution_count": null,
   "id": "4396cb59",
   "metadata": {},
   "outputs": [],
   "source": [
    "!git clone https://github.com/jantic/DeOldify.git DeOldify "
   ]
  },
  {
   "cell_type": "code",
   "execution_count": 1,
   "id": "ef09c94f",
   "metadata": {},
   "outputs": [
    {
     "name": "stdout",
     "output_type": "stream",
     "text": [
      "/Users/christopher_sia/Desktop/DeOldify/DeOldify\n"
     ]
    }
   ],
   "source": [
    "cd DeOldify"
   ]
  },
  {
   "cell_type": "code",
   "execution_count": 2,
   "id": "8e93726c",
   "metadata": {},
   "outputs": [
    {
     "name": "stdout",
     "output_type": "stream",
     "text": [
      "GPU not available.\n"
     ]
    }
   ],
   "source": [
    "#NOTE:  This must be the first call in order to work properly!\n",
    "from deoldify import device\n",
    "from deoldify.device_id import DeviceId\n",
    "#choices:  CPU, GPU0...GPU7\n",
    "device.set(device=DeviceId.GPU0)\n",
    "\n",
    "import torch\n",
    "\n",
    "if not torch.cuda.is_available():\n",
    "    print('GPU not available.')"
   ]
  },
  {
   "cell_type": "code",
   "execution_count": null,
   "id": "ff1beac8",
   "metadata": {},
   "outputs": [],
   "source": [
    "%pip install -r colab_requirements.txt"
   ]
  },
  {
   "cell_type": "code",
   "execution_count": 3,
   "id": "378d14a9",
   "metadata": {},
   "outputs": [],
   "source": [
    "import fastai\n",
    "from deoldify.visualize import *\n",
    "\n",
    "torch.backends.cudnn.benchmark = True"
   ]
  },
  {
   "cell_type": "code",
   "execution_count": null,
   "id": "1265d504",
   "metadata": {},
   "outputs": [],
   "source": [
    "!mkdir 'models'\n",
    "!wget 'https://www.dropbox.com/s/usf7uifrctqw9rl/ColorizeStable_gen.pth?dl=0' -O './models/ColorizeStable_gen.pth'"
   ]
  },
  {
   "cell_type": "code",
   "execution_count": 4,
   "id": "f0b8cc85",
   "metadata": {},
   "outputs": [
    {
     "name": "stderr",
     "output_type": "stream",
     "text": [
      "/Users/christopher_sia/opt/anaconda3/envs/python37/lib/python3.7/site-packages/fastai/data_block.py:442: UserWarning: Your training set is empty. If this is by design, pass `ignore_empty=True` to remove this warning.\n",
      "  warn(\"Your training set is empty. If this is by design, pass `ignore_empty=True` to remove this warning.\")\n",
      "/Users/christopher_sia/opt/anaconda3/envs/python37/lib/python3.7/site-packages/fastai/data_block.py:445: UserWarning: Your validation set is empty. If this is by design, use `split_none()`\n",
      "                 or pass `ignore_empty=True` when labelling to remove this warning.\n",
      "  or pass `ignore_empty=True` when labelling to remove this warning.\"\"\")\n"
     ]
    }
   ],
   "source": [
    "colorizer = get_image_colorizer(artistic=False)"
   ]
  },
  {
   "cell_type": "code",
   "execution_count": 8,
   "id": "0eb0eb74",
   "metadata": {},
   "outputs": [
    {
     "data": {
      "image/jpeg": "[encoded data removed]",
      "text/plain": [
       "<IPython.core.display.Image object>"
      ]
     },
     "execution_count": 8,
     "metadata": {},
     "output_type": "execute_result"
    }
   ],
   "source": [
    "source_url = '' #@param {type:\"string\"}\n",
    "render_factor = 35  #@param {type: \"slider\", min: 7, max: 40}\n",
    "watermarked = False #@param {type:\"boolean\"}\n",
    "\n",
    "image_path = colorizer.plot_transformed_image(path=\"../image-4.jpg\",\n",
    "                                              render_factor=render_factor,\n",
    "                                              compare=False, \n",
    "                                              watermarked=watermarked)\n",
    "\n",
    "ipythonimage(str(image_path))"
   ]
  },
  {
   "cell_type": "code",
   "execution_count": null,
   "id": "a53c0d27",
   "metadata": {},
   "outputs": [],
   "source": []
  }
 ],
 "metadata": {
  "kernelspec": {
   "display_name": "Python 3 (ipykernel)",
   "language": "python",
   "name": "python3"
  },
  "language_info": {
   "codemirror_mode": {
    "name": "ipython",
    "version": 3
   },
   "file_extension": ".py",
   "mimetype": "text/x-python",
   "name": "python",
   "nbconvert_exporter": "python",
   "pygments_lexer": "ipython3",
   "version": "3.7.11"
  }
 },
 "nbformat": 4,
 "nbformat_minor": 5
}
